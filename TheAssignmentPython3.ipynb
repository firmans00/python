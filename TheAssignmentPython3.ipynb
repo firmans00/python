{
  "nbformat": 4,
  "nbformat_minor": 0,
  "metadata": {
    "colab": {
      "name": "TheAssignmentPython3.ipynb",
      "provenance": [],
      "mount_file_id": "1WUw459ABVLp7S3iahsNs1waXGh943iXq",
      "authorship_tag": "ABX9TyMB66XPqpGyBuuJ5AJrexvX",
      "include_colab_link": true
    },
    "kernelspec": {
      "name": "python3",
      "display_name": "Python 3"
    }
  },
  "cells": [
    {
      "cell_type": "markdown",
      "metadata": {
        "id": "view-in-github",
        "colab_type": "text"
      },
      "source": [
        "<a href=\"https://colab.research.google.com/github/firmansyahtelco/python/blob/main/TheAssignmentPython3.ipynb\" target=\"_parent\"><img src=\"https://colab.research.google.com/assets/colab-badge.svg\" alt=\"Open In Colab\"/></a>"
      ]
    },
    {
      "cell_type": "markdown",
      "metadata": {
        "id": "LqKg1JdIqgcw"
      },
      "source": [
        "**The Assignment of Python Programming (Week-13)** <br>\r\n",
        "Pathloss Calculation"
      ]
    },
    {
      "cell_type": "code",
      "metadata": {
        "id": "iC9vrteeqM-s"
      },
      "source": [
        "#Nama  : Firmansyah\r\n",
        "#NIM   : 1101208122\r\n",
        "#Kelas : TTX-44-01 "
      ],
      "execution_count": 1,
      "outputs": []
    },
    {
      "cell_type": "code",
      "metadata": {
        "id": "VsnNeplkr0We"
      },
      "source": [
        "import numpy as np\r\n",
        "import matplotlib.pyplot as plt"
      ],
      "execution_count": 3,
      "outputs": []
    },
    {
      "cell_type": "code",
      "metadata": {
        "id": "jggbuzYsr-DN"
      },
      "source": [
        "def cos(frek,tipe,ht,hr,d):\r\n",
        "  #frek = frekuensi (MHz)\r\n",
        "  #tipe = urban, suburban, open\r\n",
        "  #ht = tinggi tower (meter)\r\n",
        "  #hr = tinggi user (meter)\r\n",
        "  #d = jarak (meter)\r\n",
        "    if frek in range(150,1501):\r\n",
        "        Ca=69.55\r\n",
        "        Cb=26.16\r\n",
        "    elif frek in range(1501,2001):\r\n",
        "        Ca=46.3\r\n",
        "        Cb=33.9\r\n",
        "    \r\n",
        "    if tipe=='urban' :\r\n",
        "        Cm=0\r\n",
        "    elif tipe=='suburban' :\r\n",
        "        Cm= -2*((np.log10((frek/28)**2))-5.4)\r\n",
        "    elif tipe=='open' :\r\n",
        "        Cm= -4.78*(np.log10(frek))+18.33*(np.log10(frek))-40.94\r\n",
        "    else :\r\n",
        "        Cm='tipe salah'\r\n",
        "    \r\n",
        "    ahr = (1.1*np.log10(frek)-0.7)*hr-(1.56*np.log10(frek)-1.8)\r\n",
        "    Lp = Ca+(Cb*np.log10(frek))-(13.83*np.log(ht))-ahr+((44.9-6.55*np.log10(ht))*np.log10(d))-Cm\r\n",
        "    \r\n",
        "    return Lp"
      ],
      "execution_count": 4,
      "outputs": []
    },
    {
      "cell_type": "markdown",
      "metadata": {
        "id": "mrIpTvAqsnt5"
      },
      "source": [
        "Graph-1 (Comparation Location Area) <br>\r\n",
        "**1800 MHz**"
      ]
    },
    {
      "cell_type": "code",
      "metadata": {
        "id": "8uA8pxCvt3vC"
      },
      "source": [
        "f=1800 #MHz\r\n",
        "locationA='urban' \r\n",
        "locationB='suburban'\r\n",
        "locationC='open'\r\n",
        "tower=80 #meter\r\n",
        "user=1.5 #meter\r\n",
        "dmin=200 #meter\r\n",
        "dmax=700 #meter\r\n",
        "N=200    #users\r\n",
        "d= np.random.randint(dmin,dmax,N)"
      ],
      "execution_count": 7,
      "outputs": []
    },
    {
      "cell_type": "code",
      "metadata": {
        "id": "VJZeq5XRt7AJ"
      },
      "source": [
        "LpUrban = cos(f,locationA,tower,user,d)\r\n",
        "LpSuburban = cos(f,locationB,tower,user,d)\r\n",
        "LpOpen = cos(f,locationC,tower,user,d)"
      ],
      "execution_count": 9,
      "outputs": []
    },
    {
      "cell_type": "code",
      "metadata": {
        "id": "ifLoHrH5uRKr"
      },
      "source": [
        "d_sort=d[np.argsort(d)]\r\n",
        "Urban_sort = LpUrban[np.argsort(d)]\r\n",
        "SubUrban_sort = LpSuburban[np.argsort(d)]\r\n",
        "Open_sort = LpOpen[np.argsort(d)]"
      ],
      "execution_count": 10,
      "outputs": []
    },
    {
      "cell_type": "code",
      "metadata": {
        "colab": {
          "base_uri": "https://localhost:8080/",
          "height": 295
        },
        "id": "uTDtdJNIuxLf",
        "outputId": "e997decf-3fe4-4654-bcb1-e6962ad3b849"
      },
      "source": [
        "plt.figure()\r\n",
        "plt.plot(d_sort,Urban_sort,'r',label='Urban')\r\n",
        "plt.plot(d_sort,SubUrban_sort,'g',label='Sub Urban')\r\n",
        "plt.plot(d_sort,Open_sort,'b',label='Open')\r\n",
        "plt.legend()\r\n",
        "plt.title('Frekuensi 1800Mhz')\r\n",
        "plt.xlabel('Jarak (m)')\r\n",
        "plt.ylabel('Path Loss(dB)')\r\n",
        "plt.show()"
      ],
      "execution_count": 11,
      "outputs": [
        {
          "output_type": "display_data",
          "data": {
            "image/png": "[encoded data removed]",
            "text/plain": [
              "<Figure size 432x288 with 1 Axes>"
            ]
          },
          "metadata": {
            "tags": [],
            "needs_background": "light"
          }
        }
      ]
    },
    {
      "cell_type": "markdown",
      "metadata": {
        "id": "x2smeMtfveMV"
      },
      "source": [
        "Graph-2 (Comparation Frequency) <br>\r\n",
        "**Urban**"
      ]
    },
    {
      "cell_type": "code",
      "metadata": {
        "id": "h1Kedwfywklk"
      },
      "source": [
        "freqA=700 #MHz\r\n",
        "freqB=900 #MHz\r\n",
        "freqC=1800 #MHz\r\n",
        "location='urban' #Area\r\n",
        "tower=80 #meter\r\n",
        "user=1.5 #meter\r\n",
        "dmin=200 #meter\r\n",
        "dmax=700 #meter\r\n",
        "N=200 #users\r\n",
        "d= np.random.randint(dmin,dmax,N)"
      ],
      "execution_count": 13,
      "outputs": []
    },
    {
      "cell_type": "code",
      "metadata": {
        "id": "ZfmQ0fPvwoZq"
      },
      "source": [
        "UrbanfreqA = cos(freqA,location,tower,user,d)\r\n",
        "UrbanfreqB = cos(freqB,location,tower,user,d)\r\n",
        "UrbanfreqC = cos(freqC,location,tower,user,d)"
      ],
      "execution_count": 14,
      "outputs": []
    },
    {
      "cell_type": "code",
      "metadata": {
        "id": "dJ-shhZ_w_RU"
      },
      "source": [
        "d_sort=d[np.argsort(d)]\r\n",
        "UrbanfreqA_sort = UrbanfreqA[np.argsort(d)]\r\n",
        "UrbanfreqB_sort = UrbanfreqB[np.argsort(d)]\r\n",
        "UrbanfreqC_sort = UrbanfreqC[np.argsort(d)]"
      ],
      "execution_count": 15,
      "outputs": []
    },
    {
      "cell_type": "code",
      "metadata": {
        "colab": {
          "base_uri": "https://localhost:8080/",
          "height": 295
        },
        "id": "zYUUNf6PxQBt",
        "outputId": "f294773a-1da7-40e9-e4be-7f20b424f288"
      },
      "source": [
        "plt.figure()\r\n",
        "plt.plot(d_sort,UrbanfreqA_sort,'r',label='700 MHz')\r\n",
        "plt.plot(d_sort,UrbanfreqB_sort,'g',label='900 MHz')\r\n",
        "plt.plot(d_sort,UrbanfreqC_sort,'b',label='1800 MHz')\r\n",
        "plt.legend()\r\n",
        "plt.title('Model Urban')\r\n",
        "plt.xlabel('Jarak (m)')\r\n",
        "plt.ylabel('Path Loss(dB)')\r\n",
        "plt.show()"
      ],
      "execution_count": 16,
      "outputs": [
        {
          "output_type": "display_data",
          "data": {
            "image/png": "[encoded data removed]",
            "text/plain": [
              "<Figure size 432x288 with 1 Axes>"
            ]
          },
          "metadata": {
            "tags": [],
            "needs_background": "light"
          }
        }
      ]
    },
    {
      "cell_type": "code",
      "metadata": {
        "id": "O1pQvzNnxmf0"
      },
      "source": [
        ""
      ],
      "execution_count": null,
      "outputs": []
    }
  ]
}