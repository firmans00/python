{
  "nbformat": 4,
  "nbformat_minor": 0,
  "metadata": {
    "colab": {
      "name": "TugasPython.ipynb",
      "provenance": [],
      "mount_file_id": "1sFFeZ7vqNIfQXx0whXQU0lPBmbd22Rdn",
      "authorship_tag": "ABX9TyPe3py2DO7PWNpd4uUXMX03",
      "include_colab_link": true
    },
    "kernelspec": {
      "name": "python3",
      "display_name": "Python 3"
    }
  },
  "cells": [
    {
      "cell_type": "markdown",
      "metadata": {
        "id": "view-in-github",
        "colab_type": "text"
      },
      "source": [
        "<a href=\"https://colab.research.google.com/github/firmansyahtelco/python/blob/main/TugasPython.ipynb\" target=\"_parent\"><img src=\"https://colab.research.google.com/assets/colab-badge.svg\" alt=\"Open In Colab\"/></a>"
      ]
    },
    {
      "cell_type": "code",
      "metadata": {
        "colab": {
          "base_uri": "https://localhost:8080/"
        },
        "id": "wBBkVaXyVIlJ",
        "outputId": "2e7d2922-e061-487d-bc96-0001abc58b78"
      },
      "source": [
        "cd /content/drive/MyDrive/Colab Notebooks"
      ],
      "execution_count": 1,
      "outputs": [
        {
          "output_type": "stream",
          "text": [
            "/content/drive/MyDrive/Colab Notebooks\n"
          ],
          "name": "stdout"
        }
      ]
    },
    {
      "cell_type": "code",
      "metadata": {
        "colab": {
          "base_uri": "https://localhost:8080/"
        },
        "id": "UsQmMCv9bpZG",
        "outputId": "de8ef11b-4844-4cbb-8c37-a381feca19d8"
      },
      "source": [
        "ls"
      ],
      "execution_count": 2,
      "outputs": [
        {
          "output_type": "stream",
          "text": [
            "PraktikumPython.ipynb  \u001b[0m\u001b[01;34mTugasPython10\u001b[0m/  TugasPython.ipynb\n"
          ],
          "name": "stdout"
        }
      ]
    },
    {
      "cell_type": "code",
      "metadata": {
        "id": "oWmVZS2pbsXQ"
      },
      "source": [
        "from keras.models import Sequential\n",
        "from keras.layers.convolutional import Conv2D\n",
        "from keras.layers.convolutional import MaxPooling2D\n",
        "from keras.layers.core import Activation\n",
        "from keras.layers.core import Flatten\n",
        "from keras.layers.core import Dense\n",
        "from keras.optimizers import Adam\n",
        "from sklearn.preprocessing import LabelBinarizer\n",
        "from sklearn.model_selection import train_test_split\n",
        "from sklearn.metrics import classification_report\n",
        "from PIL import Image\n",
        "from imutils import paths\n",
        "import numpy as np\n",
        "import os"
      ],
      "execution_count": 4,
      "outputs": []
    },
    {
      "cell_type": "code",
      "metadata": {
        "colab": {
          "base_uri": "https://localhost:8080/"
        },
        "id": "XcHRYcLgcZFN",
        "outputId": "66c4887a-caf4-4cf7-941e-1ac88514abe3"
      },
      "source": [
        "print(\"[INFO] loading images...\")\n",
        "imagePaths = paths.list_images(\"TugasPython10\")\n",
        "data = []\n",
        "labels = []"
      ],
      "execution_count": 5,
      "outputs": [
        {
          "output_type": "stream",
          "text": [
            "[INFO] loading images...\n"
          ],
          "name": "stdout"
        }
      ]
    },
    {
      "cell_type": "code",
      "metadata": {
        "id": "aXGLFDLzbzx3"
      },
      "source": [
        "for imagePath in imagePaths:\n",
        "\t# load the input image from disk, resize it to 32x32 pixels, scale\n",
        "\t# the pixel intensities to the range [0, 1], and then update our\n",
        "\t# images list\n",
        "  image = Image.open(imagePath)\n",
        "  image = np.array(image.resize((32, 32))) / 255.0\n",
        "  data.append(image)\n",
        "\n",
        "\t# extract the class label from the file path and update the\n",
        "\t# labels list\n",
        "  label = imagePath.split(os.path.sep)[-2]\n",
        "  labels.append(label)"
      ],
      "execution_count": 6,
      "outputs": []
    },
    {
      "cell_type": "code",
      "metadata": {
        "colab": {
          "base_uri": "https://localhost:8080/"
        },
        "id": "ZXylcKbZcsXY",
        "outputId": "bf5a4f3c-fad2-4142-e7c2-9d883907a80c"
      },
      "source": [
        "print(labels)"
      ],
      "execution_count": 7,
      "outputs": [
        {
          "output_type": "stream",
          "text": [
            "['coast', 'coast', 'coast', 'coast', 'coast', 'coast', 'coast', 'coast', 'coast', 'coast', 'coast', 'coast', 'coast', 'coast', 'coast', 'coast', 'coast', 'coast', 'coast', 'coast', 'coast', 'coast', 'coast', 'coast', 'coast', 'coast', 'coast', 'coast', 'coast', 'coast', 'coast', 'coast', 'coast', 'coast', 'coast', 'coast', 'coast', 'coast', 'coast', 'coast', 'coast', 'coast', 'coast', 'coast', 'coast', 'coast', 'coast', 'coast', 'coast', 'coast', 'coast', 'coast', 'coast', 'coast', 'coast', 'coast', 'coast', 'coast', 'coast', 'coast', 'coast', 'coast', 'coast', 'coast', 'coast', 'coast', 'coast', 'coast', 'coast', 'coast', 'coast', 'coast', 'coast', 'coast', 'coast', 'coast', 'coast', 'coast', 'coast', 'coast', 'coast', 'coast', 'coast', 'coast', 'coast', 'coast', 'coast', 'coast', 'coast', 'coast', 'coast', 'coast', 'coast', 'coast', 'coast', 'coast', 'coast', 'coast', 'coast', 'coast', 'coast', 'coast', 'coast', 'coast', 'coast', 'coast', 'coast', 'coast', 'coast', 'coast', 'coast', 'coast', 'coast', 'coast', 'coast', 'coast', 'coast', 'coast', 'coast', 'coast', 'coast', 'coast', 'coast', 'coast', 'coast', 'coast', 'coast', 'coast', 'coast', 'coast', 'coast', 'coast', 'coast', 'coast', 'coast', 'coast', 'coast', 'coast', 'coast', 'coast', 'coast', 'coast', 'coast', 'coast', 'coast', 'coast', 'coast', 'coast', 'coast', 'coast', 'coast', 'coast', 'coast', 'coast', 'coast', 'coast', 'coast', 'coast', 'coast', 'coast', 'coast', 'coast', 'coast', 'coast', 'coast', 'coast', 'coast', 'coast', 'coast', 'coast', 'coast', 'coast', 'coast', 'coast', 'coast', 'coast', 'coast', 'coast', 'coast', 'coast', 'coast', 'coast', 'coast', 'coast', 'coast', 'coast', 'coast', 'coast', 'coast', 'coast', 'coast', 'coast', 'coast', 'coast', 'coast', 'coast', 'coast', 'coast', 'coast', 'coast', 'coast', 'coast', 'coast', 'coast', 'coast', 'coast', 'coast', 'coast', 'coast', 'coast', 'coast', 'coast', 'coast', 'coast', 'coast', 'coast', 'coast', 'coast', 'coast', 'coast', 'coast', 'coast', 'coast', 'coast', 'coast', 'coast', 'coast', 'coast', 'coast', 'coast', 'coast', 'coast', 'coast', 'coast', 'coast', 'coast', 'coast', 'coast', 'coast', 'coast', 'coast', 'coast', 'coast', 'coast', 'coast', 'coast', 'coast', 'coast', 'coast', 'coast', 'coast', 'coast', 'coast', 'coast', 'coast', 'coast', 'coast', 'coast', 'coast', 'coast', 'coast', 'coast', 'coast', 'coast', 'coast', 'coast', 'coast', 'coast', 'coast', 'coast', 'coast', 'coast', 'coast', 'coast', 'coast', 'coast', 'coast', 'coast', 'coast', 'coast', 'coast', 'coast', 'coast', 'coast', 'coast', 'coast', 'coast', 'coast', 'coast', 'coast', 'coast', 'coast', 'coast', 'coast', 'coast', 'coast', 'coast', 'coast', 'coast', 'coast', 'coast', 'coast', 'coast', 'coast', 'coast', 'coast', 'coast', 'coast', 'coast', 'coast', 'coast', 'coast', 'coast', 'coast', 'coast', 'coast', 'coast', 'coast', 'coast', 'coast', 'coast', 'coast', 'coast', 'coast', 'coast', 'coast', 'coast', 'coast', 'coast', 'coast', 'coast', 'coast', 'coast', 'coast', 'coast', 'coast', 'coast', 'coast', 'coast', 'coast', 'coast', 'coast', 'coast', 'coast', 'coast', 'coast', 'coast', 'coast', 'coast', 'coast', 'coast', 'coast', 'coast', 'coast', 'coast', 'coast', 'coast', 'coast', 'coast', 'coast', 'highway', 'highway', 'highway', 'highway', 'highway', 'highway', 'highway', 'highway', 'highway', 'highway', 'highway', 'highway', 'highway', 'highway', 'highway', 'highway', 'highway', 'highway', 'highway', 'highway', 'highway', 'highway', 'highway', 'highway', 'highway', 'highway', 'highway', 'highway', 'highway', 'highway', 'highway', 'highway', 'highway', 'highway', 'highway', 'highway', 'highway', 'highway', 'highway', 'highway', 'highway', 'highway', 'highway', 'highway', 'highway', 'highway', 'highway', 'highway', 'highway', 'highway', 'highway', 'highway', 'highway', 'highway', 'highway', 'highway', 'highway', 'highway', 'highway', 'highway', 'highway', 'highway', 'highway', 'highway', 'highway', 'highway', 'highway', 'highway', 'highway', 'highway', 'highway', 'highway', 'highway', 'highway', 'highway', 'highway', 'highway', 'highway', 'highway', 'highway', 'highway', 'highway', 'highway', 'highway', 'highway', 'highway', 'highway', 'highway', 'highway', 'highway', 'highway', 'highway', 'highway', 'highway', 'highway', 'highway', 'highway', 'highway', 'highway', 'highway', 'highway', 'highway', 'highway', 'highway', 'highway', 'highway', 'highway', 'highway', 'highway', 'highway', 'highway', 'highway', 'highway', 'highway', 'highway', 'highway', 'highway', 'highway', 'highway', 'highway', 'highway', 'highway', 'highway', 'highway', 'highway', 'highway', 'highway', 'highway', 'highway', 'highway', 'highway', 'highway', 'highway', 'highway', 'highway', 'highway', 'highway', 'highway', 'highway', 'highway', 'highway', 'highway', 'highway', 'highway', 'highway', 'highway', 'highway', 'highway', 'highway', 'highway', 'highway', 'highway', 'highway', 'highway', 'highway', 'highway', 'highway', 'highway', 'highway', 'highway', 'highway', 'highway', 'highway', 'highway', 'highway', 'highway', 'highway', 'highway', 'highway', 'highway', 'highway', 'highway', 'highway', 'highway', 'highway', 'highway', 'highway', 'highway', 'highway', 'highway', 'highway', 'highway', 'highway', 'highway', 'highway', 'highway', 'highway', 'highway', 'highway', 'highway', 'highway', 'highway', 'highway', 'highway', 'highway', 'highway', 'highway', 'highway', 'highway', 'highway', 'highway', 'highway', 'highway', 'highway', 'highway', 'highway', 'highway', 'highway', 'highway', 'highway', 'highway', 'highway', 'highway', 'highway', 'highway', 'highway', 'highway', 'highway', 'highway', 'highway', 'highway', 'highway', 'highway', 'highway', 'highway', 'highway', 'highway', 'highway', 'highway', 'highway', 'highway', 'highway', 'highway', 'highway', 'highway', 'highway', 'highway', 'highway', 'highway', 'highway', 'highway', 'highway', 'highway', 'highway', 'highway', 'highway', 'highway', 'highway', 'highway', 'highway', 'highway', 'highway', 'highway', 'highway', 'highway', 'highway', 'highway', 'highway', 'highway', 'highway', 'forest', 'forest', 'forest', 'forest', 'forest', 'forest', 'forest', 'forest', 'forest', 'forest', 'forest', 'forest', 'forest', 'forest', 'forest', 'forest', 'forest', 'forest', 'forest', 'forest', 'forest', 'forest', 'forest', 'forest', 'forest', 'forest', 'forest', 'forest', 'forest', 'forest', 'forest', 'forest', 'forest', 'forest', 'forest', 'forest', 'forest', 'forest', 'forest', 'forest', 'forest', 'forest', 'forest', 'forest', 'forest', 'forest', 'forest', 'forest', 'forest', 'forest', 'forest', 'forest', 'forest', 'forest', 'forest', 'forest', 'forest', 'forest', 'forest', 'forest', 'forest', 'forest', 'forest', 'forest', 'forest', 'forest', 'forest', 'forest', 'forest', 'forest', 'forest', 'forest', 'forest', 'forest', 'forest', 'forest', 'forest', 'forest', 'forest', 'forest', 'forest', 'forest', 'forest', 'forest', 'forest', 'forest', 'forest', 'forest', 'forest', 'forest', 'forest', 'forest', 'forest', 'forest', 'forest', 'forest', 'forest', 'forest', 'forest', 'forest', 'forest', 'forest', 'forest', 'forest', 'forest', 'forest', 'forest', 'forest', 'forest', 'forest', 'forest', 'forest', 'forest', 'forest', 'forest', 'forest', 'forest', 'forest', 'forest', 'forest', 'forest', 'forest', 'forest', 'forest', 'forest', 'forest', 'forest', 'forest', 'forest', 'forest', 'forest', 'forest', 'forest', 'forest', 'forest', 'forest', 'forest', 'forest', 'forest', 'forest', 'forest', 'forest', 'forest', 'forest', 'forest', 'forest', 'forest', 'forest', 'forest', 'forest', 'forest', 'forest', 'forest', 'forest', 'forest', 'forest', 'forest', 'forest', 'forest', 'forest', 'forest', 'forest', 'forest', 'forest', 'forest', 'forest', 'forest', 'forest', 'forest', 'forest', 'forest', 'forest', 'forest', 'forest', 'forest', 'forest', 'forest', 'forest', 'forest', 'forest', 'forest', 'forest', 'forest', 'forest', 'forest', 'forest', 'forest', 'forest', 'forest', 'forest', 'forest', 'forest', 'forest', 'forest', 'forest', 'forest', 'forest', 'forest', 'forest', 'forest', 'forest', 'forest', 'forest', 'forest', 'forest', 'forest', 'forest', 'forest', 'forest', 'forest', 'forest', 'forest', 'forest', 'forest', 'forest', 'forest', 'forest', 'forest', 'forest', 'forest', 'forest', 'forest', 'forest', 'forest', 'forest', 'forest', 'forest', 'forest', 'forest', 'forest', 'forest', 'forest', 'forest', 'forest', 'forest', 'forest', 'forest', 'forest', 'forest', 'forest', 'forest', 'forest', 'forest', 'forest', 'forest', 'forest', 'forest', 'forest', 'forest', 'forest', 'forest', 'forest', 'forest', 'forest', 'forest', 'forest', 'forest', 'forest', 'forest', 'forest', 'forest', 'forest', 'forest', 'forest', 'forest', 'forest', 'forest', 'forest', 'forest', 'forest', 'forest', 'forest', 'forest', 'forest', 'forest', 'forest', 'forest', 'forest', 'forest', 'forest', 'forest', 'forest', 'forest', 'forest', 'forest', 'forest', 'forest', 'forest', 'forest', 'forest', 'forest', 'forest', 'forest', 'forest', 'forest', 'forest', 'forest', 'forest', 'forest', 'forest', 'forest', 'forest', 'forest', 'forest', 'forest', 'forest', 'forest', 'forest', 'forest', 'forest', 'forest', 'forest', 'forest', 'forest', 'forest', 'forest', 'forest', 'forest', 'forest', 'forest', 'forest', 'forest', 'forest', 'forest', 'forest', 'forest', 'forest', 'forest']\n"
          ],
          "name": "stdout"
        }
      ]
    },
    {
      "cell_type": "code",
      "metadata": {
        "id": "4KJcwU-edU9_"
      },
      "source": [
        "lb = LabelBinarizer()\n",
        "labels = lb.fit_transform(labels)"
      ],
      "execution_count": 8,
      "outputs": []
    },
    {
      "cell_type": "code",
      "metadata": {
        "colab": {
          "base_uri": "https://localhost:8080/"
        },
        "id": "oGhSU90te2Do",
        "outputId": "e7b7c933-9f90-4041-e386-d6209c5c6c78"
      },
      "source": [
        "print(labels)"
      ],
      "execution_count": 9,
      "outputs": [
        {
          "output_type": "stream",
          "text": [
            "[[1 0 0]\n",
            " [1 0 0]\n",
            " [1 0 0]\n",
            " ...\n",
            " [0 1 0]\n",
            " [0 1 0]\n",
            " [0 1 0]]\n"
          ],
          "name": "stdout"
        }
      ]
    },
    {
      "cell_type": "code",
      "metadata": {
        "colab": {
          "base_uri": "https://localhost:8080/"
        },
        "id": "3ArbFUD6e6t2",
        "outputId": "45e9aab7-9cc4-435e-bdd2-d2194c4cc43f"
      },
      "source": [
        "(trainX, testX, trainY, testY) = train_test_split(np.array(data),\tnp.array(labels), test_size=0.25)\n",
        "print(trainX.shape)\n",
        "print(testX.shape)"
      ],
      "execution_count": 10,
      "outputs": [
        {
          "output_type": "stream",
          "text": [
            "(711, 32, 32, 3)\n",
            "(237, 32, 32, 3)\n"
          ],
          "name": "stdout"
        }
      ]
    },
    {
      "cell_type": "code",
      "metadata": {
        "id": "oqTpUUMpe-mE"
      },
      "source": [
        "from keras.models import Sequential\n",
        "from keras.layers.core import Flatten\n",
        "from keras.layers.core import Dense\n",
        "\n",
        "model = Sequential(\n",
        "    [\n",
        "        Flatten(input_shape=(32*32*3,)),\n",
        "        Dense(40, activation=\"relu\", name=\"layer1\"),\n",
        "        Dense(45, activation=\"relu\", name=\"layer2\"),\n",
        "        Dense(50, activation=\"relu\", name=\"layer3\"),\n",
        "        Dense(60, activation=\"relu\", name=\"layer4\"),\n",
        "        Dense(65, activation=\"relu\", name=\"layer5\"),\n",
        "        Dense(60, activation=\"relu\", name=\"layer6\"),\n",
        "        Dense(3, activation = \"softmax\", name=\"layer7\"),\n",
        "    ]\n",
        ")"
      ],
      "execution_count": 11,
      "outputs": []
    },
    {
      "cell_type": "code",
      "metadata": {
        "colab": {
          "base_uri": "https://localhost:8080/"
        },
        "id": "sfVclO7PfR5x",
        "outputId": "150bca06-0592-4499-b847-9ab41cd6cbfe"
      },
      "source": [
        "model.summary()"
      ],
      "execution_count": 12,
      "outputs": [
        {
          "output_type": "stream",
          "text": [
            "Model: \"sequential\"\n",
            "_________________________________________________________________\n",
            "Layer (type)                 Output Shape              Param #   \n",
            "=================================================================\n",
            "flatten (Flatten)            (None, 3072)              0         \n",
            "_________________________________________________________________\n",
            "layer1 (Dense)               (None, 40)                122920    \n",
            "_________________________________________________________________\n",
            "layer2 (Dense)               (None, 45)                1845      \n",
            "_________________________________________________________________\n",
            "layer3 (Dense)               (None, 50)                2300      \n",
            "_________________________________________________________________\n",
            "layer4 (Dense)               (None, 60)                3060      \n",
            "_________________________________________________________________\n",
            "layer5 (Dense)               (None, 65)                3965      \n",
            "_________________________________________________________________\n",
            "layer6 (Dense)               (None, 60)                3960      \n",
            "_________________________________________________________________\n",
            "layer7 (Dense)               (None, 3)                 183       \n",
            "=================================================================\n",
            "Total params: 138,233\n",
            "Trainable params: 138,233\n",
            "Non-trainable params: 0\n",
            "_________________________________________________________________\n"
          ],
          "name": "stdout"
        }
      ]
    },
    {
      "cell_type": "code",
      "metadata": {
        "colab": {
          "base_uri": "https://localhost:8080/"
        },
        "id": "vEHHutfefnH9",
        "outputId": "66176bd6-0c94-46c3-e576-39d1e441ca63"
      },
      "source": [
        "print(\"[INFO] training network...\")\n",
        "opt = Adam(lr=1e-3, decay=1e-3 / 50)\n",
        "model.compile(loss=\"categorical_crossentropy\", optimizer=opt,\n",
        "\tmetrics=[\"accuracy\"])\n",
        "H = model.fit(trainX, trainY, validation_data=(testX, testY), epochs=35, batch_size=45,)"
      ],
      "execution_count": 13,
      "outputs": [
        {
          "output_type": "stream",
          "text": [
            "[INFO] training network...\n",
            "Epoch 1/35\n",
            "WARNING:tensorflow:Model was constructed with shape (None, 3072) for input Tensor(\"flatten_input:0\", shape=(None, 3072), dtype=float32), but it was called on an input with incompatible shape (None, 32, 32, 3).\n",
            "WARNING:tensorflow:Model was constructed with shape (None, 3072) for input Tensor(\"flatten_input:0\", shape=(None, 3072), dtype=float32), but it was called on an input with incompatible shape (None, 32, 32, 3).\n",
            " 1/16 [>.............................] - ETA: 0s - loss: 1.0918 - accuracy: 0.2667WARNING:tensorflow:Model was constructed with shape (None, 3072) for input Tensor(\"flatten_input:0\", shape=(None, 3072), dtype=float32), but it was called on an input with incompatible shape (None, 32, 32, 3).\n",
            "16/16 [==============================] - 0s 16ms/step - loss: 1.0320 - accuracy: 0.4177 - val_loss: 0.9373 - val_accuracy: 0.4810\n",
            "Epoch 2/35\n",
            "16/16 [==============================] - 0s 4ms/step - loss: 0.9725 - accuracy: 0.5443 - val_loss: 0.9110 - val_accuracy: 0.5654\n",
            "Epoch 3/35\n",
            "16/16 [==============================] - 0s 5ms/step - loss: 0.8757 - accuracy: 0.5865 - val_loss: 0.8306 - val_accuracy: 0.6245\n",
            "Epoch 4/35\n",
            "16/16 [==============================] - 0s 4ms/step - loss: 0.8131 - accuracy: 0.6217 - val_loss: 0.7713 - val_accuracy: 0.6667\n",
            "Epoch 5/35\n",
            "16/16 [==============================] - 0s 5ms/step - loss: 0.7330 - accuracy: 0.6723 - val_loss: 0.7138 - val_accuracy: 0.7004\n",
            "Epoch 6/35\n",
            "16/16 [==============================] - 0s 5ms/step - loss: 0.7330 - accuracy: 0.6807 - val_loss: 0.7149 - val_accuracy: 0.6878\n",
            "Epoch 7/35\n",
            "16/16 [==============================] - 0s 4ms/step - loss: 0.6464 - accuracy: 0.7454 - val_loss: 0.6340 - val_accuracy: 0.7173\n",
            "Epoch 8/35\n",
            "16/16 [==============================] - 0s 4ms/step - loss: 0.5853 - accuracy: 0.7679 - val_loss: 0.6030 - val_accuracy: 0.7806\n",
            "Epoch 9/35\n",
            "16/16 [==============================] - 0s 4ms/step - loss: 0.5138 - accuracy: 0.8143 - val_loss: 0.5560 - val_accuracy: 0.7468\n",
            "Epoch 10/35\n",
            "16/16 [==============================] - 0s 4ms/step - loss: 0.5226 - accuracy: 0.8017 - val_loss: 0.5807 - val_accuracy: 0.7342\n",
            "Epoch 11/35\n",
            "16/16 [==============================] - 0s 5ms/step - loss: 0.5185 - accuracy: 0.8073 - val_loss: 0.4969 - val_accuracy: 0.8186\n",
            "Epoch 12/35\n",
            "16/16 [==============================] - 0s 4ms/step - loss: 0.4615 - accuracy: 0.8256 - val_loss: 0.4904 - val_accuracy: 0.8143\n",
            "Epoch 13/35\n",
            "16/16 [==============================] - 0s 5ms/step - loss: 0.4420 - accuracy: 0.8256 - val_loss: 0.5449 - val_accuracy: 0.7890\n",
            "Epoch 14/35\n",
            "16/16 [==============================] - 0s 4ms/step - loss: 0.4308 - accuracy: 0.8298 - val_loss: 0.5026 - val_accuracy: 0.7890\n",
            "Epoch 15/35\n",
            "16/16 [==============================] - 0s 4ms/step - loss: 0.3846 - accuracy: 0.8495 - val_loss: 0.5016 - val_accuracy: 0.8143\n",
            "Epoch 16/35\n",
            "16/16 [==============================] - 0s 5ms/step - loss: 0.3744 - accuracy: 0.8608 - val_loss: 0.4921 - val_accuracy: 0.7890\n",
            "Epoch 17/35\n",
            "16/16 [==============================] - 0s 4ms/step - loss: 0.3745 - accuracy: 0.8565 - val_loss: 0.4846 - val_accuracy: 0.8059\n",
            "Epoch 18/35\n",
            "16/16 [==============================] - 0s 4ms/step - loss: 0.3964 - accuracy: 0.8425 - val_loss: 0.4907 - val_accuracy: 0.8228\n",
            "Epoch 19/35\n",
            "16/16 [==============================] - 0s 4ms/step - loss: 0.3835 - accuracy: 0.8509 - val_loss: 0.5360 - val_accuracy: 0.7806\n",
            "Epoch 20/35\n",
            "16/16 [==============================] - 0s 4ms/step - loss: 0.3587 - accuracy: 0.8565 - val_loss: 0.5371 - val_accuracy: 0.7806\n",
            "Epoch 21/35\n",
            "16/16 [==============================] - 0s 5ms/step - loss: 0.4261 - accuracy: 0.8326 - val_loss: 0.5001 - val_accuracy: 0.8017\n",
            "Epoch 22/35\n",
            "16/16 [==============================] - 0s 4ms/step - loss: 0.2866 - accuracy: 0.9001 - val_loss: 0.4580 - val_accuracy: 0.8186\n",
            "Epoch 23/35\n",
            "16/16 [==============================] - 0s 4ms/step - loss: 0.2693 - accuracy: 0.9100 - val_loss: 0.4554 - val_accuracy: 0.8397\n",
            "Epoch 24/35\n",
            "16/16 [==============================] - 0s 4ms/step - loss: 0.3312 - accuracy: 0.8748 - val_loss: 0.5937 - val_accuracy: 0.7637\n",
            "Epoch 25/35\n",
            "16/16 [==============================] - 0s 4ms/step - loss: 0.3557 - accuracy: 0.8551 - val_loss: 0.4587 - val_accuracy: 0.8354\n",
            "Epoch 26/35\n",
            "16/16 [==============================] - 0s 5ms/step - loss: 0.2719 - accuracy: 0.9072 - val_loss: 0.4871 - val_accuracy: 0.8143\n",
            "Epoch 27/35\n",
            "16/16 [==============================] - 0s 5ms/step - loss: 0.2386 - accuracy: 0.9170 - val_loss: 0.4831 - val_accuracy: 0.8270\n",
            "Epoch 28/35\n",
            "16/16 [==============================] - 0s 4ms/step - loss: 0.2299 - accuracy: 0.9198 - val_loss: 0.4996 - val_accuracy: 0.8186\n",
            "Epoch 29/35\n",
            "16/16 [==============================] - 0s 4ms/step - loss: 0.2476 - accuracy: 0.9100 - val_loss: 0.5499 - val_accuracy: 0.7890\n",
            "Epoch 30/35\n",
            "16/16 [==============================] - 0s 4ms/step - loss: 0.2754 - accuracy: 0.8889 - val_loss: 0.5025 - val_accuracy: 0.8228\n",
            "Epoch 31/35\n",
            "16/16 [==============================] - 0s 5ms/step - loss: 0.2267 - accuracy: 0.9184 - val_loss: 0.5731 - val_accuracy: 0.7806\n",
            "Epoch 32/35\n",
            "16/16 [==============================] - 0s 5ms/step - loss: 0.2420 - accuracy: 0.8987 - val_loss: 0.5973 - val_accuracy: 0.7806\n",
            "Epoch 33/35\n",
            "16/16 [==============================] - 0s 5ms/step - loss: 0.2298 - accuracy: 0.9170 - val_loss: 0.4996 - val_accuracy: 0.8228\n",
            "Epoch 34/35\n",
            "16/16 [==============================] - 0s 4ms/step - loss: 0.1885 - accuracy: 0.9367 - val_loss: 0.5175 - val_accuracy: 0.8186\n",
            "Epoch 35/35\n",
            "16/16 [==============================] - 0s 5ms/step - loss: 0.1882 - accuracy: 0.9311 - val_loss: 0.5090 - val_accuracy: 0.8101\n"
          ],
          "name": "stdout"
        }
      ]
    },
    {
      "cell_type": "code",
      "metadata": {
        "colab": {
          "base_uri": "https://localhost:8080/",
          "height": 590
        },
        "id": "vnKZu-4KfxU-",
        "outputId": "39fc66ea-fab5-43a3-9929-15fb2507163b"
      },
      "source": [
        "import matplotlib.pyplot as plt\n",
        "\n",
        "print(H.history.keys())\n",
        "# summarize history for accuracy\n",
        "plt.plot(H.history['accuracy'])\n",
        "plt.plot(H.history['val_accuracy'])\n",
        "plt.title('model accuracy')\n",
        "plt.ylabel('accuracy')\n",
        "plt.xlabel('epoch')\n",
        "plt.legend(['train', 'test'], loc='upper left')\n",
        "plt.show()\n",
        "# summarize history for loss\n",
        "plt.plot(H.history['loss'])\n",
        "plt.plot(H.history['val_loss'])\n",
        "plt.title('model loss')\n",
        "plt.ylabel('loss')\n",
        "plt.xlabel('epoch')\n",
        "plt.legend(['train', 'test'], loc='upper left')\n",
        "plt.show()"
      ],
      "execution_count": 14,
      "outputs": [
        {
          "output_type": "stream",
          "text": [
            "dict_keys(['loss', 'accuracy', 'val_loss', 'val_accuracy'])\n"
          ],
          "name": "stdout"
        },
        {
          "output_type": "display_data",
          "data": {
            "image/png": "[encoded data removed]",
            "text/plain": [
              "<Figure size 432x288 with 1 Axes>"
            ]
          },
          "metadata": {
            "tags": [],
            "needs_background": "light"
          }
        },
        {
          "output_type": "display_data",
          "data": {
            "image/png": "[encoded data removed]",
            "text/plain": [
              "<Figure size 432x288 with 1 Axes>"
            ]
          },
          "metadata": {
            "tags": [],
            "needs_background": "light"
          }
        }
      ]
    },
    {
      "cell_type": "code",
      "metadata": {
        "colab": {
          "base_uri": "https://localhost:8080/"
        },
        "id": "cmXADPbLf-xG",
        "outputId": "5082c87a-8890-45d7-aa7e-3143abae9a20"
      },
      "source": [
        "print(\"[INFO] evaluating network...\")\n",
        "predictions = model.predict(testX, batch_size=64)\n",
        "print(classification_report(testY.argmax(axis=1),\n",
        "\tpredictions.argmax(axis=1), target_names=lb.classes_))"
      ],
      "execution_count": 15,
      "outputs": [
        {
          "output_type": "stream",
          "text": [
            "[INFO] evaluating network...\n",
            "WARNING:tensorflow:Model was constructed with shape (None, 3072) for input Tensor(\"flatten_input:0\", shape=(None, 3072), dtype=float32), but it was called on an input with incompatible shape (None, 32, 32, 3).\n",
            "              precision    recall  f1-score   support\n",
            "\n",
            "       coast       0.78      0.78      0.78        89\n",
            "      forest       0.88      0.80      0.84        87\n",
            "     highway       0.77      0.87      0.82        61\n",
            "\n",
            "    accuracy                           0.81       237\n",
            "   macro avg       0.81      0.82      0.81       237\n",
            "weighted avg       0.81      0.81      0.81       237\n",
            "\n"
          ],
          "name": "stdout"
        }
      ]
    },
    {
      "cell_type": "code",
      "metadata": {
        "id": "trMB7itvgEYB"
      },
      "source": [
        ""
      ],
      "execution_count": null,
      "outputs": []
    }
  ]
}